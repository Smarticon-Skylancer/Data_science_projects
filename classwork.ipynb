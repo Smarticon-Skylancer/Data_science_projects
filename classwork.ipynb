{
 "cells": [
  {
   "cell_type": "code",
   "execution_count": null,
   "id": "1affbfdf",
   "metadata": {},
   "outputs": [
    {
     "ename": "KeyError",
     "evalue": "'S/N'",
     "output_type": "error",
     "traceback": [
      "\u001b[1;31m---------------------------------------------------------------------------\u001b[0m",
      "\u001b[1;31mKeyError\u001b[0m                                  Traceback (most recent call last)",
      "File \u001b[1;32mc:\\Users\\hp\\anaconda3\\Lib\\site-packages\\pandas\\core\\indexes\\base.py:3805\u001b[0m, in \u001b[0;36mIndex.get_loc\u001b[1;34m(self, key)\u001b[0m\n\u001b[0;32m   3804\u001b[0m \u001b[38;5;28;01mtry\u001b[39;00m:\n\u001b[1;32m-> 3805\u001b[0m     \u001b[38;5;28;01mreturn\u001b[39;00m \u001b[38;5;28mself\u001b[39m\u001b[38;5;241m.\u001b[39m_engine\u001b[38;5;241m.\u001b[39mget_loc(casted_key)\n\u001b[0;32m   3806\u001b[0m \u001b[38;5;28;01mexcept\u001b[39;00m \u001b[38;5;167;01mKeyError\u001b[39;00m \u001b[38;5;28;01mas\u001b[39;00m err:\n",
      "File \u001b[1;32mindex.pyx:167\u001b[0m, in \u001b[0;36mpandas._libs.index.IndexEngine.get_loc\u001b[1;34m()\u001b[0m\n",
      "File \u001b[1;32mindex.pyx:196\u001b[0m, in \u001b[0;36mpandas._libs.index.IndexEngine.get_loc\u001b[1;34m()\u001b[0m\n",
      "File \u001b[1;32mpandas\\\\_libs\\\\hashtable_class_helper.pxi:7081\u001b[0m, in \u001b[0;36mpandas._libs.hashtable.PyObjectHashTable.get_item\u001b[1;34m()\u001b[0m\n",
      "File \u001b[1;32mpandas\\\\_libs\\\\hashtable_class_helper.pxi:7089\u001b[0m, in \u001b[0;36mpandas._libs.hashtable.PyObjectHashTable.get_item\u001b[1;34m()\u001b[0m\n",
      "\u001b[1;31mKeyError\u001b[0m: 'S/N'",
      "\nThe above exception was the direct cause of the following exception:\n",
      "\u001b[1;31mKeyError\u001b[0m                                  Traceback (most recent call last)",
      "Cell \u001b[1;32mIn[20], line 17\u001b[0m\n\u001b[0;32m     12\u001b[0m df \u001b[38;5;241m=\u001b[39m df[[col \u001b[38;5;28;01mfor\u001b[39;00m col \u001b[38;5;129;01min\u001b[39;00m df\u001b[38;5;241m.\u001b[39mcolumns \u001b[38;5;28;01mif\u001b[39;00m \u001b[38;5;124m\"\u001b[39m\u001b[38;5;124mWEEK\u001b[39m\u001b[38;5;124m\"\u001b[39m \u001b[38;5;129;01mnot\u001b[39;00m \u001b[38;5;129;01min\u001b[39;00m col]]\n\u001b[0;32m     14\u001b[0m \u001b[38;5;66;03m# ============================\u001b[39;00m\n\u001b[0;32m     15\u001b[0m \u001b[38;5;66;03m# STEP 3: Keep only rows up to S/N 134\u001b[39;00m\n\u001b[0;32m     16\u001b[0m \u001b[38;5;66;03m# ============================\u001b[39;00m\n\u001b[1;32m---> 17\u001b[0m df \u001b[38;5;241m=\u001b[39m df[df[\u001b[38;5;124m'\u001b[39m\u001b[38;5;124mS/N\u001b[39m\u001b[38;5;124m'\u001b[39m] \u001b[38;5;241m<\u001b[39m\u001b[38;5;241m=\u001b[39m \u001b[38;5;241m134\u001b[39m]\n\u001b[0;32m     19\u001b[0m \u001b[38;5;66;03m# ============================\u001b[39;00m\n\u001b[0;32m     20\u001b[0m \u001b[38;5;66;03m# STEP 4: Add Gender\u001b[39;00m\n\u001b[0;32m     21\u001b[0m \u001b[38;5;66;03m# ============================\u001b[39;00m\n\u001b[0;32m     22\u001b[0m female_id \u001b[38;5;241m=\u001b[39m [\n\u001b[0;32m     23\u001b[0m     \u001b[38;5;241m2420204008\u001b[39m, \u001b[38;5;241m2420204007\u001b[39m, \u001b[38;5;241m2420204005\u001b[39m, \u001b[38;5;241m2420204003\u001b[39m,\n\u001b[0;32m     24\u001b[0m     \u001b[38;5;241m2310204112\u001b[39m, \u001b[38;5;241m2310204084\u001b[39m, \u001b[38;5;241m2310204021\u001b[39m, \u001b[38;5;241m2210204097\u001b[39m,\n\u001b[0;32m     25\u001b[0m     \u001b[38;5;241m2310204001\u001b[39m, \u001b[38;5;241m2310204002\u001b[39m, \u001b[38;5;241m2310204102\u001b[39m, \u001b[38;5;241m2310204075\u001b[39m\n\u001b[0;32m     26\u001b[0m ]\n",
      "File \u001b[1;32mc:\\Users\\hp\\anaconda3\\Lib\\site-packages\\pandas\\core\\frame.py:4102\u001b[0m, in \u001b[0;36mDataFrame.__getitem__\u001b[1;34m(self, key)\u001b[0m\n\u001b[0;32m   4100\u001b[0m \u001b[38;5;28;01mif\u001b[39;00m \u001b[38;5;28mself\u001b[39m\u001b[38;5;241m.\u001b[39mcolumns\u001b[38;5;241m.\u001b[39mnlevels \u001b[38;5;241m>\u001b[39m \u001b[38;5;241m1\u001b[39m:\n\u001b[0;32m   4101\u001b[0m     \u001b[38;5;28;01mreturn\u001b[39;00m \u001b[38;5;28mself\u001b[39m\u001b[38;5;241m.\u001b[39m_getitem_multilevel(key)\n\u001b[1;32m-> 4102\u001b[0m indexer \u001b[38;5;241m=\u001b[39m \u001b[38;5;28mself\u001b[39m\u001b[38;5;241m.\u001b[39mcolumns\u001b[38;5;241m.\u001b[39mget_loc(key)\n\u001b[0;32m   4103\u001b[0m \u001b[38;5;28;01mif\u001b[39;00m is_integer(indexer):\n\u001b[0;32m   4104\u001b[0m     indexer \u001b[38;5;241m=\u001b[39m [indexer]\n",
      "File \u001b[1;32mc:\\Users\\hp\\anaconda3\\Lib\\site-packages\\pandas\\core\\indexes\\base.py:3812\u001b[0m, in \u001b[0;36mIndex.get_loc\u001b[1;34m(self, key)\u001b[0m\n\u001b[0;32m   3807\u001b[0m     \u001b[38;5;28;01mif\u001b[39;00m \u001b[38;5;28misinstance\u001b[39m(casted_key, \u001b[38;5;28mslice\u001b[39m) \u001b[38;5;129;01mor\u001b[39;00m (\n\u001b[0;32m   3808\u001b[0m         \u001b[38;5;28misinstance\u001b[39m(casted_key, abc\u001b[38;5;241m.\u001b[39mIterable)\n\u001b[0;32m   3809\u001b[0m         \u001b[38;5;129;01mand\u001b[39;00m \u001b[38;5;28many\u001b[39m(\u001b[38;5;28misinstance\u001b[39m(x, \u001b[38;5;28mslice\u001b[39m) \u001b[38;5;28;01mfor\u001b[39;00m x \u001b[38;5;129;01min\u001b[39;00m casted_key)\n\u001b[0;32m   3810\u001b[0m     ):\n\u001b[0;32m   3811\u001b[0m         \u001b[38;5;28;01mraise\u001b[39;00m InvalidIndexError(key)\n\u001b[1;32m-> 3812\u001b[0m     \u001b[38;5;28;01mraise\u001b[39;00m \u001b[38;5;167;01mKeyError\u001b[39;00m(key) \u001b[38;5;28;01mfrom\u001b[39;00m\u001b[38;5;250m \u001b[39m\u001b[38;5;21;01merr\u001b[39;00m\n\u001b[0;32m   3813\u001b[0m \u001b[38;5;28;01mexcept\u001b[39;00m \u001b[38;5;167;01mTypeError\u001b[39;00m:\n\u001b[0;32m   3814\u001b[0m     \u001b[38;5;66;03m# If we have a listlike key, _check_indexing_error will raise\u001b[39;00m\n\u001b[0;32m   3815\u001b[0m     \u001b[38;5;66;03m#  InvalidIndexError. Otherwise we fall through and re-raise\u001b[39;00m\n\u001b[0;32m   3816\u001b[0m     \u001b[38;5;66;03m#  the TypeError.\u001b[39;00m\n\u001b[0;32m   3817\u001b[0m     \u001b[38;5;28mself\u001b[39m\u001b[38;5;241m.\u001b[39m_check_indexing_error(key)\n",
      "\u001b[1;31mKeyError\u001b[0m: 'S/N'"
     ]
    }
   ],
   "source": [
    "import pandas as pd\n",
    "\n",
    "# ============================\n",
    "# STEP 1: Load Excel File\n",
    "# ============================\n",
    "# Change this to your actual Excel file name\n",
    "df = pd.read_excel(r\"C:\\Users\\hp\\Desktop\\Data sceince projects\\IFT 212 ATTENDANCE SHEET3.xlsx\")\n",
    "\n",
    "# ============================\n",
    "# STEP 2: Drop WEEK columns\n",
    "# ============================\n",
    "df = df[[col for col in df.columns if \"WEEK\" not in col]]\n",
    "\n",
    "# ============================\n",
    "# STEP 3: Keep only rows up to S/N 134\n",
    "# ============================\n",
    "df = df[df['serial'] <= 134]\n",
    "\n",
    "# ============================\n",
    "# STEP 4: Add Gender\n",
    "# ============================\n",
    "female_id = [\n",
    "    2420204008, 2420204007, 2420204005, 2420204003,\n",
    "    2310204112, 2310204084, 2310204021, 2210204097,\n",
    "    2310204001, 2310204002, 2310204102, 2310204075\n",
    "]\n",
    "\n",
    "df[\"Gender\"] = \"Male\"\n",
    "df.loc[df[\"ID\"].isin(female_id), \"Gender\"] = \"Female\"\n",
    "\n",
    "# ============================\n",
    "# STEP 5: Separate Females & Males\n",
    "# ============================\n",
    "females = df[df[\"Gender\"] == \"Female\"].reset_index(drop=True)\n",
    "males = df[df[\"Gender\"] == \"Male\"].sample(frac=1).reset_index(drop=True)  # shuffle males\n",
    "\n",
    "# ============================\n",
    "# STEP 6: Grouping (1 Female + 9 Males per group)\n",
    "# ============================\n",
    "groups, group_names = [], []\n",
    "alphabet_labels = list(\"ABCDEFGHIJKLMNOPQRSTUVWXYZ\")\n",
    "num_males_per_group, male_pointer = 9, 0\n",
    "\n",
    "for i, female in females.iterrows():\n",
    "    if male_pointer + num_males_per_group <= len(males):\n",
    "        selected_males = males.iloc[male_pointer:male_pointer + num_males_per_group]\n",
    "        male_pointer += num_males_per_group\n",
    "\n",
    "        group = pd.concat([female.to_frame().T, selected_males])\n",
    "        groups.append(group)\n",
    "        group_names.append(f\"Group {alphabet_labels[len(groups) - 1]}\")\n",
    "\n",
    "# ============================\n",
    "# STEP 7: Combine into final dataset\n",
    "# ============================\n",
    "final = pd.concat(groups, keys=group_names).reset_index(level=0).rename(columns={\"level_0\": \"Group\"})\n",
    "\n",
    "# ============================\n",
    "# STEP 8: Export to Excel\n",
    "# ============================\n",
    "final.to_excel(\"IFT212_Grouped.xlsx\", index=False)\n",
    "\n",
    "print(\"✅ Exported successfully as IFT212_Grouped.xlsx\")\n"
   ]
  }
 ],
 "metadata": {
  "kernelspec": {
   "display_name": "base",
   "language": "python",
   "name": "python3"
  },
  "language_info": {
   "codemirror_mode": {
    "name": "ipython",
    "version": 3
   },
   "file_extension": ".py",
   "mimetype": "text/x-python",
   "name": "python",
   "nbconvert_exporter": "python",
   "pygments_lexer": "ipython3",
   "version": "3.13.5"
  }
 },
 "nbformat": 4,
 "nbformat_minor": 5
}
